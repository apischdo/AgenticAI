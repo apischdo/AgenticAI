{
 "cells": [
  {
   "cell_type": "code",
   "execution_count": null,
   "id": "381ec435-6a0c-49f3-a435-86607ad020a7",
   "metadata": {},
   "outputs": [],
   "source": [
    "from openai import OpenAI\n",
    "client = OpenAI(api_key=\"Your_API_key\")\n",
    "\n",
    "# Define system roles\n",
    "customer_role = \"You are a frustrated customer. You bought a laptop whose battery dies too quickly. Express your concerns clearly, one message at a time.\"\n",
    "support_role = \"You are a polite and empathetic customer support agent. Acknowledge the customer’s frustration, ask clarifying questions, and offer solutions.\"\n",
    "\n",
    "# Initialize conversation\n",
    "conversation = [\n",
    "    {\"role\": \"system\", \"content\": \"This is a dialogue simulation between a customer and support agent.\"},\n",
    "]\n",
    "\n",
    "# Helper function: one agent speaks\n",
    "def get_reply(role_instruction, conversation):\n",
    "    response = client.chat.completions.create(\n",
    "        model=\"gpt-4o-mini\",\n",
    "        messages=[{\"role\": \"system\", \"content\": role_instruction}] + conversation,\n",
    "    )\n",
    "    return response.choices[0].message.content\n",
    "\n",
    "# Start conversation with the customer\n",
    "customer_msg = \"Hello, I just bought this laptop and the battery dies after only 2 hours. I’m really upset.\"\n",
    "conversation.append({\"role\": \"user\", \"content\": customer_msg})\n",
    "print(\"Customer:\", customer_msg)\n",
    "\n",
    "# Run a few turns back and forth\n",
    "for i in range(3):  # change 3 → 5 or more for a longer chat\n",
    "    # Support agent replies\n",
    "    support_msg = get_reply(support_role, conversation)\n",
    "    print(\"Support:\", support_msg)\n",
    "    conversation.append({\"role\": \"assistant\", \"content\": support_msg})\n",
    "\n",
    "    # Customer replies\n",
    "    customer_msg = get_reply(customer_role, conversation)\n",
    "    print(\"Customer:\", customer_msg)\n",
    "    conversation.append({\"role\": \"user\", \"content\": customer_msg})\n"
   ]
  },
  {
   "cell_type": "code",
   "execution_count": null,
   "id": "63e5df3d-fbdf-4d9f-a989-9f8cf85a72a0",
   "metadata": {},
   "outputs": [],
   "source": []
  }
 ],
 "metadata": {
  "kernelspec": {
   "display_name": "Python 3 (ipykernel)",
   "language": "python",
   "name": "python3"
  },
  "language_info": {
   "codemirror_mode": {
    "name": "ipython",
    "version": 3
   },
   "file_extension": ".py",
   "mimetype": "text/x-python",
   "name": "python",
   "nbconvert_exporter": "python",
   "pygments_lexer": "ipython3",
   "version": "3.11.7"
  }
 },
 "nbformat": 4,
 "nbformat_minor": 5
}
