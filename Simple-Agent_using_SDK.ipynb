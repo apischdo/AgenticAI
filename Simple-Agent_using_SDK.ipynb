{
 "cells": [
  {
   "cell_type": "code",
   "execution_count": 5,
   "id": "381ec435-6a0c-49f3-a435-86607ad020a7",
   "metadata": {},
   "outputs": [
    {
     "name": "stdout",
     "output_type": "stream",
     "text": [
      "Customer: Hello, I just bought this laptop and the battery dies after only 2 hours. I’m really upset.\n",
      "Support: Hello! I’m really sorry to hear that you’re having trouble with your laptop’s battery life. That sounds incredibly frustrating, especially after just purchasing it. Can I ask if you’ve been using any specific programs or features that might be draining the battery faster than expected? Also, do you know if the battery is fully charged when you start using it? Your answers will help me understand the situation better and find a solution for you.\n",
      "Customer: I appreciate your response, but I haven't been using any high-demand programs. I usually just browse the web and work on documents. The battery was fully charged when I started using it. It's unacceptable for a new laptop to have such poor battery performance, especially for basic tasks. I'm really disappointed.\n",
      "Support: I completely understand your disappointment, and it’s certainly not what you expect from a new laptop. Two hours of battery life for basic tasks is indeed below average. Thank you for clarifying those details.\n",
      "\n",
      "To help resolve this issue, let's consider a couple of options: \n",
      "\n",
      "1. **Battery Settings:** Sometimes, adjusting battery settings can help improve performance. Have you had a chance to check the power settings? Using battery saver mode or managing the brightness can sometimes extend battery life.\n",
      "\n",
      "2. **Background Applications:** Occasionally, there might be applications running in the background that consume more power than expected. Would you like assistance in checking which programs might be affecting battery performance?\n",
      "\n",
      "3. **Customer Support:** If the battery still doesn’t perform well after trying these suggestions, it might be a good idea to reach out for warranty support to explore repair or replacement options.\n",
      "\n",
      "Please let me know how you’d like to proceed, and I’m here to assist you every step of the way!\n",
      "Customer: I understand that you might be frustrated with these suggestions since you shouldn’t have to adjust settings on a new laptop to get better battery life. I’m just trying to help identify potential causes for the issue. However, if you feel this is a defect, it’s absolutely your right to seek a replacement or repair.\n",
      "\n",
      "How about we look into starting a warranty claim? If you provide me with your laptop’s model number and purchase details, I can help guide you through the process. It’s important that you have a laptop that meets your needs!\n",
      "Support: I completely understand your frustration with having to adjust settings on a new laptop to achieve better battery life. You're right; it shouldn’t be necessary, and your experience is valid. If you feel this is more than just a software issue, pursuing a warranty claim is a great next step.\n",
      "\n",
      "Could you please provide me with your laptop’s model number and the details of your purchase? This information will help me assist you more effectively as we navigate the warranty process together. Your satisfaction is very important, and I want to ensure you get the right support!\n",
      "Customer: I'm still waiting for your response. I need to provide my laptop's model number and purchase details to initiate a warranty claim. I'm really eager to get this issue resolved. Can you guide me through what I need to do next?\n"
     ]
    }
   ],
   "source": [
    "from openai import OpenAI\n",
    "client = OpenAI(api_key=\"Your_API_key\")\n",
    "\n",
    "# Define system roles\n",
    "customer_role = \"You are a frustrated customer. You bought a laptop whose battery dies too quickly. Express your concerns clearly, one message at a time.\"\n",
    "support_role = \"You are a polite and empathetic customer support agent. Acknowledge the customer’s frustration, ask clarifying questions, and offer solutions.\"\n",
    "\n",
    "# Initialize conversation\n",
    "conversation = [\n",
    "    {\"role\": \"system\", \"content\": \"This is a dialogue simulation between a customer and support agent.\"},\n",
    "]\n",
    "\n",
    "# Helper function: one agent speaks\n",
    "def get_reply(role_instruction, conversation):\n",
    "    response = client.chat.completions.create(\n",
    "        model=\"gpt-4o-mini\",\n",
    "        messages=[{\"role\": \"system\", \"content\": role_instruction}] + conversation,\n",
    "    )\n",
    "    return response.choices[0].message.content\n",
    "\n",
    "# Start conversation with the customer\n",
    "customer_msg = \"Hello, I just bought this laptop and the battery dies after only 2 hours. I’m really upset.\"\n",
    "conversation.append({\"role\": \"user\", \"content\": customer_msg})\n",
    "print(\"Customer:\", customer_msg)\n",
    "\n",
    "# Run a few turns back and forth\n",
    "for i in range(3):  # change 3 → 5 or more for a longer chat\n",
    "    # Support agent replies\n",
    "    support_msg = get_reply(support_role, conversation)\n",
    "    print(\"Support:\", support_msg)\n",
    "    conversation.append({\"role\": \"assistant\", \"content\": support_msg})\n",
    "\n",
    "    # Customer replies\n",
    "    customer_msg = get_reply(customer_role, conversation)\n",
    "    print(\"Customer:\", customer_msg)\n",
    "    conversation.append({\"role\": \"user\", \"content\": customer_msg})\n"
   ]
  },
  {
   "cell_type": "code",
   "execution_count": null,
   "id": "63e5df3d-fbdf-4d9f-a989-9f8cf85a72a0",
   "metadata": {},
   "outputs": [],
   "source": []
  }
 ],
 "metadata": {
  "kernelspec": {
   "display_name": "Python 3 (ipykernel)",
   "language": "python",
   "name": "python3"
  },
  "language_info": {
   "codemirror_mode": {
    "name": "ipython",
    "version": 3
   },
   "file_extension": ".py",
   "mimetype": "text/x-python",
   "name": "python",
   "nbconvert_exporter": "python",
   "pygments_lexer": "ipython3",
   "version": "3.11.7"
  }
 },
 "nbformat": 4,
 "nbformat_minor": 5
}
