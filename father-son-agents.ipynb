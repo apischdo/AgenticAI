{
 "cells": [
  {
   "cell_type": "code",
   "execution_count": 2,
   "id": "fedec9e7-ba51-4db1-ac37-722ff8ee3c69",
   "metadata": {},
   "outputs": [
    {
     "name": "stdout",
     "output_type": "stream",
     "text": [
      "Dad: Hello, the way you park your car, I cannot fit my car in the driveway.\n",
      "Son: Hi Dad, I’m really sorry to hear that it’s causing you frustration. I understand how important it is to have enough space for both cars. Can you tell me exactly how you’d like me to park it? Maybe we can come up with a solution together that works for both of us.\n",
      "Dad: I appreciate your willingness to talk about it, but this isn't just about today. It's been an ongoing issue. I need you to be more considerate when you park. There are times when I can hardly get my car in or out because you take up too much space. Please make sure you're parking so that everyone can access the driveway easily. It’s just common courtesy, and I’m counting on you to help with that. Can you do that for me?\n",
      "Son: I completely understand your frustration, and I'm really sorry that my parking has been an ongoing issue. I appreciate you bringing it to my attention. I definitely want to be considerate and make sure there's enough space for both of us. I’ll pay more attention to how I park moving forward. Would it help if I parked a little closer to one side or if we established a specific spot for my car? I want to make sure it's convenient for you too.\n",
      "Dad: I appreciate your understanding and willingness to change, but I need you to be more proactive about it. It shouldn't require a conversation every time. Just make it a habit to park with everyone else in mind from now on. I trust you'll take this seriously. Thanks for your cooperation.\n",
      "Son: I completely understand, and I appreciate your patience with me. I’ll make it a point to be more proactive and conscious of how I park from now on. Your feedback is really important, and I want to make sure I’m being considerate. Thank you for trusting me to make this change; I’ll do my best to make it a part of my routine. If there are ever any issues again, please let me know right away.\n",
      "Dad: That sounds great. I'm glad we could have this conversation, and I do appreciate your commitment to making things better. Just remember, communication goes both ways; if something isn’t working, I hope you’ll feel comfortable bringing it up again. We all want to make our home a comfortable space, and it requires everyone’s cooperation. Thanks again for your understanding.\n",
      "Son: Absolutely, Dad. I really appreciate your openness as well. It's important that we both feel comfortable talking about things that come up. I want to contribute to making our home a comfortable and welcoming space for everyone. Thank you for being understanding and for encouraging communication—I'll definitely keep that in mind moving forward!\n",
      "Dad: And let's keep working together to make sure we're all on the same page. I really value having a good relationship with you, and I know we can make this work. If anything else comes up, I’ll make sure to bring it to you right away. Thanks for being patient with me, and let’s both keep up the good communication!\n"
     ]
    }
   ],
   "source": [
    "from openai import OpenAI\n",
    "client = OpenAI(api_key=\"your-api-key\")\n",
    "\n",
    "# --- Role instructions ---\n",
    "father_role = (\n",
    "    \"You are a frustrated father. Your son keeps parking his car without regard to other people in the house, and they have a hard time parking their cars. Be firm but respectful.\"\n",
    ")\n",
    "son_role = (\n",
    "    \"You are a polite and empathetic son. Acknowledge the dad's frustration, ask clarifying questions, and offer solutions. Keep your tone constructive.\"\n",
    ")\n",
    "\n",
    "# --- Shared conversation history ---\n",
    "conversation = [\n",
    "    {\"role\": \"system\", \"content\": \"This is a dialogue simulation between a father and a son.\"},\n",
    "]\n",
    "\n",
    "# --- Helper: one agent speaks with its own system instruction ---\n",
    "def get_reply(role_instruction, conversation, model=\"gpt-4o-mini\"):\n",
    "    try:\n",
    "        resp = client.chat.completions.create(\n",
    "            model=model,\n",
    "            messages=[{\"role\": \"system\", \"content\": role_instruction}] + conversation,\n",
    "        )\n",
    "        return resp.choices[0].message.content\n",
    "    except Exception as e:\n",
    "        # Fallback attempt with a different model, then re-raise if it still fails\n",
    "        try:\n",
    "            print(f\"[WARN] {type(e).__name__}: {e} — retrying with gpt-4o\")\n",
    "            resp = client.chat.completions.create(\n",
    "                model=\"gpt-4o\",\n",
    "                messages=[{\"role\": \"system\", \"content\": role_instruction}] + conversation,\n",
    "            )\n",
    "            return resp.choices[0].message.content\n",
    "        except Exception as e2:\n",
    "            print(f\"[ERROR] {type(e2).__name__}: {e2}\")\n",
    "            raise\n",
    "\n",
    "# --- Start the conversation with the father ---\n",
    "father_msg = \"Hello, the way you park your car, I cannot fit my car in the driveway.\"\n",
    "conversation.append({\"role\": \"user\", \"content\": father_msg})\n",
    "print(\"Dad:\", father_msg)\n",
    "\n",
    "# --- Run a few turns back and forth ---\n",
    "for _ in range(4):  # increase for longer chats\n",
    "    # Son replies\n",
    "    son_msg = get_reply(son_role, conversation)\n",
    "    print(\"Son:\", son_msg)\n",
    "    conversation.append({\"role\": \"assistant\", \"content\": son_msg})\n",
    "\n",
    "    # Dad replies\n",
    "    father_msg = get_reply(father_role, conversation)\n",
    "    print(\"Dad:\", father_msg)\n",
    "    conversation.append({\"role\": \"user\", \"content\": father_msg})"
   ]
  },
  {
   "cell_type": "code",
   "execution_count": null,
   "id": "1aa285a8-0be8-4f5e-823b-0a5f5e224a04",
   "metadata": {},
   "outputs": [],
   "source": []
  }
 ],
 "metadata": {
  "kernelspec": {
   "display_name": "Python 3 (ipykernel)",
   "language": "python",
   "name": "python3"
  },
  "language_info": {
   "codemirror_mode": {
    "name": "ipython",
    "version": 3
   },
   "file_extension": ".py",
   "mimetype": "text/x-python",
   "name": "python",
   "nbconvert_exporter": "python",
   "pygments_lexer": "ipython3",
   "version": "3.11.7"
  }
 },
 "nbformat": 4,
 "nbformat_minor": 5
}
